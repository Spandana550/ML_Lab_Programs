{
 "cells": [
  {
   "cell_type": "code",
   "execution_count": 6,
   "id": "ac443fe1",
   "metadata": {},
   "outputs": [
    {
     "name": "stderr",
     "output_type": "stream",
     "text": [
      "[nltk_data] Downloading package punkt to\n",
      "[nltk_data]     C:\\Users\\SPANDANA\\AppData\\Roaming\\nltk_data...\n",
      "[nltk_data]   Package punkt is already up-to-date!\n"
     ]
    },
    {
     "name": "stdout",
     "output_type": "stream",
     "text": [
      "Cosine similarity between 'alice'and 'wonderland' - CBOW : 0.98239833\n",
      "Cosine similarity between 'alice'and 'machines' - CBOW : 0.93042016\n",
      "Cosine similarity between 'alice'and 'wonderland' - Skip Gram : 0.83535606\n",
      "Cosine similarity between 'alice'and 'machines' - Skip Gram : 0.9510548\n"
     ]
    }
   ],
   "source": [
    "##Program1- Design and implement a neural based network for generating word embedding for words given in a document corpus\n",
    "import nltk\n",
    "nltk.download('punkt')\n",
    "from nltk.tokenize import sent_tokenize, word_tokenize\n",
    "import warnings\n",
    "warnings.filterwarnings(action = 'ignore')\n",
    "import gensim\n",
    "from gensim.models import Word2Vec\n",
    "sample = open(r\"P1_alice.txt\", encoding = \"utf-8\")\n",
    "s = sample.read()\n",
    "f = s.replace(\"/n\",\" \")\n",
    "data = []\n",
    "for i in sent_tokenize(f):\n",
    "    temp = []\n",
    "    for j in word_tokenize(i):\n",
    "        temp.append(j.lower())\n",
    "    data.append(temp)\n",
    "model1 = gensim.models.Word2Vec(data,min_count = 1,vector_size = 100,window = 5)\n",
    "print(\"Cosine similarity between 'alice'\"+ \"and 'wonderland' - CBOW :\", model1.wv.similarity('alice', 'wonderland'))\n",
    "print(\"Cosine similarity between 'alice'\"+ \"and 'machines' - CBOW :\", model1.wv.similarity('alice', 'machines'))\n",
    "model2 = gensim.models.Word2Vec(data,min_count = 1,vector_size = 100,window = 5,sg = 1)\n",
    "print(\"Cosine similarity between 'alice'\"+ \"and 'wonderland' - Skip Gram :\", model2.wv.similarity('alice', 'wonderland'))\n",
    "print(\"Cosine similarity between 'alice'\"+ \"and 'machines' - Skip Gram :\", model2.wv.similarity('alice', 'machines'))"
   ]
  }
 ],
 "metadata": {
  "kernelspec": {
   "display_name": "Python 3 (ipykernel)",
   "language": "python",
   "name": "python3"
  },
  "language_info": {
   "codemirror_mode": {
    "name": "ipython",
    "version": 3
   },
   "file_extension": ".py",
   "mimetype": "text/x-python",
   "name": "python",
   "nbconvert_exporter": "python",
   "pygments_lexer": "ipython3",
   "version": "3.9.7"
  }
 },
 "nbformat": 4,
 "nbformat_minor": 5
}
