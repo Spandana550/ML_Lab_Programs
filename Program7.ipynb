{
 "cells": [
  {
   "cell_type": "code",
   "execution_count": 14,
   "id": "e6acfa2b",
   "metadata": {},
   "outputs": [
    {
     "name": "stdout",
     "output_type": "stream",
     "text": [
      "1/1 [==============================] - 0s 178ms/step\n",
      "Labrador_retriever: 91.00%\n",
      "Chesapeake_Bay_retriever: 4.63%\n",
      "golden_retriever: 3.03%\n",
      "vizsla: 0.32%\n",
      "Rhodesian_ridgeback: 0.20%\n"
     ]
    }
   ],
   "source": [
    "import numpy as np\n",
    "import tensorflow as tf\n",
    "from tensorflow.keras.applications.vgg16 import preprocess_input, decode_predictions\n",
    "from tensorflow.keras.preprocessing import image\n",
    "\n",
    "# Load the pre-trained VGG16 model\n",
    "model = tf.keras.applications.VGG16(weights='imagenet')\n",
    "\n",
    "# Load and preprocess the input image\n",
    "img_path = 'lab_dog.jpg'\n",
    "img = image.load_img(img_path, target_size=(224, 224))\n",
    "x = image.img_to_array(img)\n",
    "x = np.expand_dims(x, axis=0)\n",
    "x = preprocess_input(x)\n",
    "\n",
    "# Make predictions\n",
    "preds = model.predict(x)\n",
    "decoded_preds = decode_predictions(preds, top=5)[0]\n",
    "\n",
    "# Print the predictions\n",
    "for _, label, prob in decoded_preds:\n",
    "    print(f\"{label}: {prob*100:.2f}%\")"
   ]
  }
 ],
 "metadata": {
  "kernelspec": {
   "display_name": "Python 3 (ipykernel)",
   "language": "python",
   "name": "python3"
  },
  "language_info": {
   "codemirror_mode": {
    "name": "ipython",
    "version": 3
   },
   "file_extension": ".py",
   "mimetype": "text/x-python",
   "name": "python",
   "nbconvert_exporter": "python",
   "pygments_lexer": "ipython3",
   "version": "3.9.7"
  }
 },
 "nbformat": 4,
 "nbformat_minor": 5
}
